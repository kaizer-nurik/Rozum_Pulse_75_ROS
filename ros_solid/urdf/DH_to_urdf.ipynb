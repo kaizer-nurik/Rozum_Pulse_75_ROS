{
 "cells": [
  {
   "cell_type": "code",
   "execution_count": 1,
   "id": "f15ac869",
   "metadata": {},
   "outputs": [
    {
     "name": "stdout",
     "output_type": "stream",
     "text": [
      "Collecting numpy\n",
      "  Using cached numpy-2.2.6-cp310-cp310-manylinux_2_17_x86_64.manylinux2014_x86_64.whl.metadata (62 kB)\n",
      "Using cached numpy-2.2.6-cp310-cp310-manylinux_2_17_x86_64.manylinux2014_x86_64.whl (16.8 MB)\n",
      "Installing collected packages: numpy\n",
      "Successfully installed numpy-2.2.6\n"
     ]
    }
   ],
   "source": [
    "!pip install numpy"
   ]
  },
  {
   "cell_type": "code",
   "execution_count": 4,
   "id": "448f8e71",
   "metadata": {},
   "outputs": [],
   "source": [
    "import numpy as np\n",
    "def get_rotation_and_translation(d,a,theta,alpha):\n",
    "    R = np.array([[np.cos(theta), -np.sin(theta)*np.cos(alpha), np.sin(theta)*np.sin(alpha)],\n",
    "                  [np.sin(theta), np.cos(theta)*np.cos(alpha), -np.cos(theta)*np.sin(alpha)],\n",
    "                  [0, np.sin(alpha), np.cos(alpha)]])\n",
    "    print(\"T:\")\n",
    "    print(a*np.cos(theta),a*np.sin(theta),d)\n",
    "    \n",
    "    print(\"roll, pitch, yaw:\")\n",
    "    roll = alpha\n",
    "    pitch = 0\n",
    "    yaw = theta\n",
    "    print(roll, pitch, yaw)\n",
    "    \n",
    "\n",
    "\n",
    "\n",
    "\n"
   ]
  },
  {
   "cell_type": "code",
   "execution_count": 5,
   "id": "cfb15571",
   "metadata": {},
   "outputs": [
    {
     "name": "stdout",
     "output_type": "stream",
     "text": [
      "link1\n",
      "T:\n",
      "0.0 0.0 0.215\n",
      "roll, pitch, yaw:\n",
      "1.5707963 0 0\n",
      "link2\n",
      "T:\n",
      "-0.286 -0.0 0.119\n",
      "roll, pitch, yaw:\n",
      "0 0 0\n",
      "link3\n",
      "T:\n",
      "-0.26 -0.0 -0.093\n",
      "roll, pitch, yaw:\n",
      "0 0 0\n",
      "link4\n",
      "T:\n",
      "0.0 0.0 0.093\n",
      "roll, pitch, yaw:\n",
      "1.5707963 0 0\n",
      "link5\n",
      "T:\n",
      "0.0 0.0 0.1681\n",
      "roll, pitch, yaw:\n",
      "-1.5707963 0 0\n",
      "link6\n",
      "T:\n",
      "0.0 0.0 0.1196\n",
      "roll, pitch, yaw:\n",
      "0.0 0 0\n"
     ]
    }
   ],
   "source": [
    "print(\"link1\")\n",
    "d = 0.2150\n",
    "a = 0\n",
    "alpha = 1.5707963\n",
    "theta = 0\n",
    "get_rotation_and_translation(d,a,theta,alpha)\n",
    "\n",
    "print(\"link2\")\n",
    "d = 0.1190\n",
    "a = -0.2860\n",
    "alpha = 0\n",
    "theta = 0 \n",
    "get_rotation_and_translation(d,a,theta,alpha)\n",
    "\n",
    "print(\"link3\")  \n",
    "d = -0.0930\n",
    "a = -0.2600\n",
    "alpha = 0\n",
    "theta = 0\n",
    "get_rotation_and_translation(d,a,theta,alpha)\n",
    "\n",
    "print(\"link4\")  \n",
    "d = 0.0930\n",
    "a = 0\n",
    "alpha = 1.5707963\n",
    "theta = 0\n",
    "get_rotation_and_translation(d,a,theta,alpha)\n",
    "\n",
    "print(\"link5\")  \n",
    "d = 0.1681\n",
    "a = 0\n",
    "alpha = -1.5707963\n",
    "theta = 0\n",
    "get_rotation_and_translation(d,a,theta,alpha)\n",
    "\n",
    "print(\"link6\")  \n",
    "d = 0.1196\n",
    "a = 0\n",
    "alpha = 0 // 3.1415926\n",
    "theta = 0\n",
    "get_rotation_and_translation(d,a,theta,alpha)\n",
    "\n",
    "\n"
   ]
  },
  {
   "cell_type": "code",
   "execution_count": null,
   "id": "4e17dca8",
   "metadata": {},
   "outputs": [],
   "source": []
  }
 ],
 "metadata": {
  "kernelspec": {
   "display_name": ".venv",
   "language": "python",
   "name": "python3"
  },
  "language_info": {
   "codemirror_mode": {
    "name": "ipython",
    "version": 3
   },
   "file_extension": ".py",
   "mimetype": "text/x-python",
   "name": "python",
   "nbconvert_exporter": "python",
   "pygments_lexer": "ipython3",
   "version": "3.10.16"
  }
 },
 "nbformat": 4,
 "nbformat_minor": 5
}
